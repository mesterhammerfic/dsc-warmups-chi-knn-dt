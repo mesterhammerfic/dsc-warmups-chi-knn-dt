{
 "cells": [
  {
   "cell_type": "code",
   "execution_count": 1,
   "metadata": {},
   "outputs": [],
   "source": [
    "#run this cell as-is\n",
    "\n",
    "import pandas as pd\n",
    "import numpy as np\n",
    "\n",
    "from sklearn.datasets import make_classification\n",
    "\n",
    "from sklearn.pipeline import Pipeline\n",
    "\n",
    "from sklearn.preprocessing import StandardScaler\n",
    "\n",
    "from sklearn.model_selection import train_test_split\n",
    "from sklearn.model_selection import cross_val_score\n",
    "from sklearn.model_selection import cross_validate\n",
    "\n",
    "\n",
    "from sklearn.neighbors import KNeighborsClassifier\n",
    "from sklearn.tree import DecisionTreeClassifier\n",
    "\n",
    "from sklearn.metrics import f1_score\n",
    "\n",
    "import matplotlib.pyplot as plt\n",
    "%matplotlib inline\n",
    "\n",
    "#used for tests\n",
    "from test_scripts.test_class import Test\n",
    "test = Test()\n",
    "\n",
    "data = test.load_ind('data')\n",
    "\n",
    "X = data.drop('target', axis=1, inplace=False)\n",
    "y = data['target']"
   ]
  },
  {
   "cell_type": "markdown",
   "metadata": {},
   "source": [
    "### Complete the following code which:\n",
    "\n",
    "- Performs a train-test split\n",
    "  - test data is 20% of total data, `random_state` of 34\n",
    "\n",
    "- creates StandardScaler, KnnClassifier and DecisionTreeClassifier objects\n",
    "\n",
    "- scales the train and test data (correctly!)\n",
    "\n",
    "- Sets up a loop which\n",
    "  - sets the `n_neighbors` attribute in the knn object to the current iteration of the loop\n",
    "     - (Why do we only include odd k values?  Why do we start with 3?)\n",
    "  - fits the knn object on the training data\n",
    "  - makes predictions on the test data\n",
    "  - finds the f1_score of the test data\n",
    "  - appends that score to `knn_scores`, a hither-to empty list\n",
    "  \n",
    "The code following the loop graphs the f1_score by k value, no need to alter anything in there\n",
    "\n",
    "Graph should look like this:\n",
    "\n",
    "![](test_obj/viz.png)"
   ]
  },
  {
   "cell_type": "code",
   "execution_count": 6,
   "metadata": {},
   "outputs": [
    {
     "data": {
      "image/png": "[encoded data removed]",
      "text/plain": [
       "<Figure size 432x288 with 1 Axes>"
      ]
     },
     "metadata": {
      "needs_background": "light"
     },
     "output_type": "display_data"
    }
   ],
   "source": [
    "#complete the following code\n",
    "\n",
    "X_train, X_test, y_train, y_test = train_test_split(X, y, random_state=34, train_size=.2)\n",
    "\n",
    "scaler = StandardScaler()\n",
    "knn = KNeighborsClassifier()\n",
    "dt = DecisionTreeClassifier()\n",
    "\n",
    "X_train_scl = scaler.fit_transform(X_train)\n",
    "\n",
    "X_test_scl = scaler.transform(X_test)\n",
    "\n",
    "knn_scores = []\n",
    "\n",
    "for k in range(3,20,2):\n",
    "\n",
    "    knn = knn.set_params(n_neighbors=k)\n",
    "    \n",
    "    knn.fit(X_train, y_train)\n",
    "    knn_preds = knn.predict(X_test)\n",
    "    \n",
    "    knn_score = f1_score(y_test, knn_preds)\n",
    "    \n",
    "    knn_scores.append(knn_score)\n",
    "fig, ax = plt.subplots()\n",
    "ax.plot([x for x in range(3,20,2)], knn_scores)\n",
    "ax.set_xticks([x for x in range(3,20, 2)])\n",
    "ax.set_xlabel('k')\n",
    "ax.set_ylabel('test f1 score')\n",
    "ax.set_title('test f1 score for each odd value of k')\n",
    "plt.plot();"
   ]
  },
  {
   "cell_type": "markdown",
   "metadata": {},
   "source": [
    "### Which value of k should we choose as our model?"
   ]
  },
  {
   "cell_type": "code",
   "execution_count": null,
   "metadata": {},
   "outputs": [],
   "source": [
    "'''\n",
    "Your answer here\n",
    "'''"
   ]
  },
  {
   "cell_type": "markdown",
   "metadata": {},
   "source": [
    "### Next, fill in the following code to get a test f1 score for a decision tree\n",
    "\n",
    "- Fit the data to the decision tree object you made above\n",
    "  - remember to include the right X and y!\n",
    "  \n",
    "  \n",
    "- create predictions (of the right X!)\n",
    "\n",
    "- generate f1_score for test data (using the right objects!)"
   ]
  },
  {
   "cell_type": "code",
   "execution_count": null,
   "metadata": {},
   "outputs": [],
   "source": [
    "#fill in your code below\n",
    "\n",
    "dt.fit(######)\n",
    "dt_preds = #######\n",
    "\n",
    "dt_score = f1_score(#######)"
   ]
  },
  {
   "cell_type": "code",
   "execution_count": 18,
   "metadata": {},
   "outputs": [],
   "source": [
    "#run this cell to test!\n",
    "\n",
    "test.run_test(dt_score, '1_dt_score')"
   ]
  },
  {
   "cell_type": "markdown",
   "metadata": {},
   "source": [
    "### But that's just with a simple train/test split, right?\n",
    "#### How do we now what we're seeing isn't just due to the specific split we made?\n",
    "\n",
    "Let's use `cross_val_score` to cross-validate.  \n",
    "\n",
    "That way, we can get averages to our metrics and provide some assurance\n",
    "we're not seeing things due to random cuts of splits.\n",
    "\n",
    "The code below looks like the code above, except\n",
    "- fill in `cross_val_score` instead of fitting knn or dt objects\n",
    "  - look at the [documentation](https://scikit-learn.org/stable/modules/generated/sklearn.model_selection.cross_val_score.html) and figure out what parameters/arguments you need to include to generate an f1 score from 10-fold cross-validation\n",
    "    \n",
    "  - don't worry about randomness meaning you won't match the examples, \n",
    "  that's taken care of by `np.random.seed` at the top of the cell\n",
    "  \n",
    "- again look at the documentation to figure out what object you need to mean to get an \"average\" f1 score from the 10-fold cv process\n",
    "\n",
    "Your knn curve should look like the graph below, and you can test your dt score below\n",
    "\n",
    "![](test_obj/viz2.png)\n"
   ]
  },
  {
   "cell_type": "code",
   "execution_count": null,
   "metadata": {},
   "outputs": [],
   "source": [
    "#fill in your code below\n",
    "\n",
    "np.random.seed(34)\n",
    "\n",
    "scaler = #####\n",
    "knn = #####()\n",
    "dt = #####()\n",
    "\n",
    "knn_cv_scores = [] \n",
    "\n",
    "for k in range(3,20,2):\n",
    "    knn = knn.set_params(#####)\n",
    "    \n",
    "    f1_scores_cv = cross_val_score(#####)\n",
    "    \n",
    "    f1_score_mean = #####\n",
    "    \n",
    "    knn_cv_scores.append(#####)\n",
    "    \n",
    "fig, ax = plt.subplots()\n",
    "ax.plot([x for x in range(3,20, 2)], knn_cv_scores)\n",
    "ax.set_xticks([x for x in range(3,20, 2)])\n",
    "ax.set_xlabel('k')\n",
    "ax.set_ylabel('10-fold cv f1 avg')\n",
    "ax.set_title('knn 10-fold cv f1 score for odd values of k')\n",
    "plt.plot();   \n",
    "\n",
    "dt_cv_scores = cross_val_score(#####)\n",
    "dt_cv_mean = #####"
   ]
  },
  {
   "cell_type": "code",
   "execution_count": 38,
   "metadata": {},
   "outputs": [],
   "source": [
    "#run this to test your 10-fold cv dt mean\n",
    "\n",
    "test.run_test(dt_cv_mean, 'dt_cv_mean')"
   ]
  },
  {
   "cell_type": "markdown",
   "metadata": {},
   "source": [
    "### What do you notice about the knn curve?  About the dt f1 score?  Why did this happen?"
   ]
  },
  {
   "cell_type": "code",
   "execution_count": null,
   "metadata": {},
   "outputs": [],
   "source": [
    "'''\n",
    "Your answer here\n",
    "'''"
   ]
  },
  {
   "cell_type": "markdown",
   "metadata": {},
   "source": [
    "### ok you wanna compare training and test metrics?\n",
    "\n",
    "![](viz/kramer.gif)\n",
    "\n",
    "### let's compare training and test metrics\n",
    "\n",
    "This will run similarly as above, except now we use `cross_validate` in order to get both train and test metrics\n",
    "\n",
    "- check the [documentation](https://scikit-learn.org/stable/modules/generated/sklearn.model_selection.cross_validate.html) to see what parameters and arguments to include to generate an f1 score on 10-fold cross-validation while returning both training and testing error for each fold\n",
    "\n",
    "- check the documentation to figure out how to extract the training scores and testing scores in order to mean them\n",
    "\n",
    "- check the documentation again just for fun\n",
    "\n",
    "- get used to checking documentation\n",
    "\n",
    "- train/test graph for knn should look like this\n",
    "\n",
    "![](viz/viz3.png)"
   ]
  },
  {
   "cell_type": "code",
   "execution_count": null,
   "metadata": {},
   "outputs": [],
   "source": [
    "#fill in your code below\n",
    "\n",
    "np.random.seed(34)\n",
    "\n",
    "knn = KNeighborsClassifier()\n",
    "dt = DecisionTreeClassifier()\n",
    "\n",
    "knn_cv_test_scores = [] \n",
    "knn_cv_train_scores = []\n",
    "\n",
    "for k in range(3,20,2):\n",
    "    knn = knn.#####\n",
    "    \n",
    "    f1_scores_cv = cross_validate(#####)\n",
    "    \n",
    "    f1_train_score_mean = #####\n",
    "    f1_test_score_mean = #####\n",
    "    \n",
    "    knn_cv_train_scores.append(#####)\n",
    "    knn_cv_test_scores.append(#####)\n",
    "    \n",
    "fig, ax = plt.subplots()\n",
    "ax.plot([x for x in range(3,20, 2)], knn_cv_train_scores, label='train')\n",
    "ax.plot([x for x in range(3,20, 2)], knn_cv_test_scores, label='test')\n",
    "ax.set_xticks([x for x in range(3,20, 2)])\n",
    "ax.set_xlabel('k')\n",
    "ax.legend()\n",
    "ax.set_ylabel('knn f1 score crossval avg')\n",
    "        \n",
    "plt.plot();   \n",
    "\n",
    "\n",
    "dt_cv_scores = cross_validate(#####)\n",
    "\n",
    "dt_cv_train_mean = #####\n",
    "dt_cv_test_mean = #####\n",
    "    \n",
    "print(f'dt cv train mean f1 score: {#####}')\n",
    "print(f'dt cv test mean f1 score: {#####}')"
   ]
  },
  {
   "cell_type": "code",
   "execution_count": null,
   "metadata": {},
   "outputs": [],
   "source": [
    "#test yer dt train/test means below\n",
    "\n",
    "test.run_test(dt_cv_train_mean, 'dt_cv_train_mean')\n",
    "test.run_test(dt_cv_test_mean, 'dt_cv_test_mean')"
   ]
  },
  {
   "cell_type": "markdown",
   "metadata": {},
   "source": [
    "### What k should we choose for knn?  Is knn over-fitting or under-fitting?  \n",
    "How do you know?\n",
    "\n",
    "### Is the decision tree over-fitting or under-fitting?\n",
    "\n",
    "Figure out whether you need to make the decision tree more or less complex\n",
    "\n",
    "Figure out what hyperparameters you would change, and how, to implement your decision\n",
    "\n",
    "**BONUS**\n",
    "\n",
    "Play around with the hyperparameters in order to make it do so\n",
    "\n",
    "Best train and test error (if you can explain why it's the best) gets a treat"
   ]
  },
  {
   "cell_type": "code",
   "execution_count": null,
   "metadata": {},
   "outputs": [],
   "source": [
    "'''\n",
    "What k should we choose?\n",
    "\n",
    "\n",
    "\n",
    "Is knn over- or under-fitting?\n",
    "\n",
    "\n",
    "\n",
    "\n",
    "Is the decision tree over-fitting or under-fitting?\n",
    "\n",
    "\n",
    "\n",
    "\n",
    "Should we make the tree more or less complex?\n",
    "\n",
    "\n",
    "\n",
    "What hyperparams would you change, and how, to implement the above?\n",
    "\n",
    "'''\n",
    "\n",
    "#BONUS playing around w/ dt hyperparams\n",
    "\n",
    "\n",
    "\n",
    "#play here!"
   ]
  }
 ],
 "metadata": {
  "kernelspec": {
   "display_name": "Python 3",
   "language": "python",
   "name": "python3"
  },
  "language_info": {
   "codemirror_mode": {
    "name": "ipython",
    "version": 3
   },
   "file_extension": ".py",
   "mimetype": "text/x-python",
   "name": "python",
   "nbconvert_exporter": "python",
   "pygments_lexer": "ipython3",
   "version": "3.7.6"
  }
 },
 "nbformat": 4,
 "nbformat_minor": 4
}
